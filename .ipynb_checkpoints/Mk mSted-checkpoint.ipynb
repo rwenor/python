{
 "cells": [
  {
   "cell_type": "code",
   "execution_count": 2,
   "metadata": {},
   "outputs": [
    {
     "name": "stdout",
     "output_type": "stream",
     "text": [
      "d.MAALESTED_KODE <> OLD.MAALESTED_KODE or\n",
      "d.M_FylkeNr <> OLD.M_FylkeNr or\n",
      "d.Ny_Kode <> OLD.Ny_Kode or\n",
      "d.Org_Kode <> OLD.Org_Kode or\n",
      "d.AKTIV <> OLD.AKTIV or\n",
      "d.MAALESTED_STATUS_id <> OLD.MAALESTED_STATUS_id or\n",
      "d.MAALESTED_TYPE <> OLD.MAALESTED_TYPE or\n",
      "d.BESKRIVELSE <> OLD.BESKRIVELSE or\n",
      "d.MAALESTED_NAVN <> OLD.MAALESTED_NAVN or\n",
      "d.VEIIDENT <> OLD.VEIIDENT or\n",
      "d.FARTSGRENSE <> OLD.FARTSGRENSE or\n",
      "d.POLITIDISTRIKT_ID <> OLD.POLITIDISTRIKT_ID or\n",
      "d.PC_ID <> OLD.PC_ID or\n",
      "d.DATK_ID <> OLD.DATK_ID or\n",
      "d.VEGKONTOR_ID <> OLD.VEGKONTOR_ID or\n",
      "d.SKILTKODE_ID <> OLD.SKILTKODE_ID or\n",
      "d.RETNING_1 <> OLD.RETNING_1 or\n",
      "d.RETNING_2 <> OLD.RETNING_2 or\n",
      "d.RETNING <> OLD.RETNING or\n",
      "d.VegType <> OLD.VegType or\n",
      "d.Veg_no <> OLD.Veg_no or\n",
      "d.Fra_HP <> OLD.Fra_HP or\n",
      "d.Fra_Meter <> OLD.Fra_Meter or\n",
      "d.TpktSide <> OLD.TpktSide or\n",
      "d.Felt <> OLD.Felt or\n",
      "d.IpAdresse <> OLD.IpAdresse or\n",
      "d.STREKNING_LENGDE <> OLD.STREKNING_LENGDE or\n",
      "d.TIL_POLITIDISTRIKTNR <> OLD.TIL_POLITIDISTRIKTNR or\n",
      "d.AADT <> OLD.AADT or\n",
      "d.MAALESTED_STATUS <> OLD.MAALESTED_STATUS or\n",
      "d.MAALESTED_I <> OLD.MAALESTED_I or\n"
     ]
    }
   ],
   "source": [
    "i = 0\n",
    "with open('mSted.txt') as f:\n",
    "    for l in f:\n",
    "        i += 1\n",
    "        print('d.' + l[:-1], '<>', 'OLD.' + l[:-1], 'or') "
   ]
  },
  {
   "cell_type": "code",
   "execution_count": null,
   "metadata": {},
   "outputs": [],
   "source": []
  }
 ],
 "metadata": {
  "kernelspec": {
   "display_name": "Python 3",
   "language": "python",
   "name": "python3"
  },
  "language_info": {
   "codemirror_mode": {
    "name": "ipython",
    "version": 3
   },
   "file_extension": ".py",
   "mimetype": "text/x-python",
   "name": "python",
   "nbconvert_exporter": "python",
   "pygments_lexer": "ipython3",
   "version": "3.6.1"
  }
 },
 "nbformat": 4,
 "nbformat_minor": 1
}
