{
 "cells": [
  {
   "cell_type": "code",
   "execution_count": 1,
   "metadata": {
    "collapsed": false
   },
   "outputs": [],
   "source": [
    "def AxTime(hex):\n",
    "    assert(hex[0]=='#')    \n",
    "    return int(hex[1:], 16)/65535.0    # *1000/0xffff/1000.0\n",
    "\n",
    "def PrintTime(t):\n",
    "    print 'The time is:', t\n",
    "    print 'The time is:', time.ctime(t)\n",
    "\n",
    "    \n",
    "    "
   ]
  },
  {
   "cell_type": "code",
   "execution_count": 9,
   "metadata": {
    "collapsed": false
   },
   "outputs": [
    {
     "name": "stdout",
     "output_type": "stream",
     "text": [
      "The time is: 1443313799.67\n",
      "The time is      : Sun Sep 27 02:29:59 2015\n",
      "The time is      : Sun Sep 27 02:29:59 2015\n",
      "65535\n",
      "2009-05-05 00:00:00\n"
     ]
    }
   ],
   "source": [
    "import time\n",
    "import datetime\n",
    "\n",
    "print 'The time is:', AxTime('#5606E28073D1')\n",
    "print 'The time is      :', time.ctime(AxTime('#5606E28073D1'))\n",
    "\n",
    "time.strftime('%Y-%m-%d x %H%M:%S')\n",
    "print 'The time is      :', time.ctime(AxTime('#5606E28073D1'))\n",
    "\n",
    "print int( '0xffff', 16)\n",
    "\n",
    "\n",
    "print datetime.datetime(2009, 5, 5)"
   ]
  },
  {
   "cell_type": "code",
   "execution_count": 8,
   "metadata": {
    "collapsed": false
   },
   "outputs": [
    {
     "name": "stdout",
     "output_type": "stream",
     "text": [
      "The time is: 1452768997.65\n",
      "The time is      : Thu Jan 14 11:56:37 2016\n",
      "The time is      : Thu Jan 14 11:56:52 2016\n"
     ]
    }
   ],
   "source": [
    "import time\n",
    "\n",
    "print 'The time is:', time.time()\n",
    "print 'The time is      :', time.ctime()\n",
    "later = time.time()  + 15\n",
    "print 'The time is      :', time.ctime(later)\n",
    "\n"
   ]
  },
  {
   "cell_type": "code",
   "execution_count": 9,
   "metadata": {
    "collapsed": false
   },
   "outputs": [
    {
     "name": "stdout",
     "output_type": "stream",
     "text": [
      "1452722694.93\n",
      "1452768998.58\n"
     ]
    }
   ],
   "source": [
    "print AxTime('#569673702509')\n",
    "print time.time()\n"
   ]
  },
  {
   "cell_type": "code",
   "execution_count": 2,
   "metadata": {
    "collapsed": false
   },
   "outputs": [
    {
     "name": "stdout",
     "output_type": "stream",
     "text": [
      "2015-09-27 02:29:59.673228\n"
     ]
    }
   ],
   "source": [
    "from datetime import datetime \n",
    "ts = AxTime('#5606E28073D1')\n",
    "print datetime.fromtimestamp(ts)"
   ]
  },
  {
   "cell_type": "code",
   "execution_count": 34,
   "metadata": {
    "collapsed": false
   },
   "outputs": [],
   "source": [
    "myTolList = {}\n",
    "\n",
    "def getTol(axnr, lnr):\n",
    "    try:\n",
    "        res = myTolList[axnr][lnr]\n",
    "            \n",
    "    except:\n",
    "        res = setTol(axnr, lnr, 0)\n",
    "        \n",
    "    return res\n",
    "    \n",
    "def setTol(axnr, lnr, val):\n",
    "    try:\n",
    "        myTolList[axnr][lnr] = val\n",
    "            \n",
    "    except:    \n",
    "        myTolList[axnr] = [0,0,0,0, 0,0,0,0]\n",
    "        myTolList[axnr][lnr] = val\n",
    "        \n",
    "    return val\n",
    "    "
   ]
  },
  {
   "cell_type": "code",
   "execution_count": 35,
   "metadata": {
    "collapsed": false
   },
   "outputs": [
    {
     "data": {
      "text/plain": [
       "0"
      ]
     },
     "execution_count": 35,
     "metadata": {},
     "output_type": "execute_result"
    }
   ],
   "source": [
    "getTol(331, 7)"
   ]
  },
  {
   "cell_type": "code",
   "execution_count": 36,
   "metadata": {
    "collapsed": false
   },
   "outputs": [
    {
     "data": {
      "text/plain": [
       "4.4"
      ]
     },
     "execution_count": 36,
     "metadata": {},
     "output_type": "execute_result"
    }
   ],
   "source": [
    "setTol(3331, 7, 4.4)"
   ]
  },
  {
   "cell_type": "code",
   "execution_count": 37,
   "metadata": {
    "collapsed": false
   },
   "outputs": [
    {
     "data": {
      "text/plain": [
       "1"
      ]
     },
     "execution_count": 37,
     "metadata": {},
     "output_type": "execute_result"
    }
   ],
   "source": [
    "setTol(331, 7, 1)"
   ]
  },
  {
   "cell_type": "code",
   "execution_count": 38,
   "metadata": {
    "collapsed": false
   },
   "outputs": [
    {
     "data": {
      "text/plain": [
       "{331: [0, 0, 0, 0, 0, 0, 0, 1], 3331: [0, 0, 0, 0, 0, 0, 0, 4.4]}"
      ]
     },
     "execution_count": 38,
     "metadata": {},
     "output_type": "execute_result"
    }
   ],
   "source": [
    "myTolList\n"
   ]
  },
  {
   "cell_type": "code",
   "execution_count": null,
   "metadata": {
    "collapsed": true
   },
   "outputs": [],
   "source": []
  }
 ],
 "metadata": {
  "kernelspec": {
   "display_name": "Python 2",
   "language": "python",
   "name": "python2"
  },
  "language_info": {
   "codemirror_mode": {
    "name": "ipython",
    "version": 2
   },
   "file_extension": ".py",
   "mimetype": "text/x-python",
   "name": "python",
   "nbconvert_exporter": "python",
   "pygments_lexer": "ipython2",
   "version": "2.7.10"
  }
 },
 "nbformat": 4,
 "nbformat_minor": 0
}
