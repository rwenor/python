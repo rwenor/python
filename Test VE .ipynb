{
 "metadata": {
  "name": "",
  "signature": "sha256:01537023cc4f891af0c3e411001c4a905024dfb0437636a48f6be3db0df790cf"
 },
 "nbformat": 3,
 "nbformat_minor": 0,
 "worksheets": [
  {
   "cells": [
    {
     "cell_type": "code",
     "collapsed": false,
     "input": [
      "def AxTime(hex):\n",
      "    assert(hex[0]=='#')    \n",
      "    return int(hex[1:], 16)/65535.0    # *1000/0xffff/1000.0\n",
      "\n",
      "def PrintTime(t):\n",
      "    print 'The time is:', t\n",
      "    print 'The time is:', time.ctime(t)\n",
      "\n",
      "    \n",
      "    "
     ],
     "language": "python",
     "metadata": {},
     "outputs": [],
     "prompt_number": 1
    },
    {
     "cell_type": "code",
     "collapsed": false,
     "input": [
      "import time\n",
      "import datetime\n",
      "\n",
      "print 'The time is:', AxTime('#5606E28073D1')\n",
      "print 'The time is      :', time.ctime(AxTime('#5606E28073D1'))\n",
      "\n",
      "time.strftime('%Y-%m-%d x %H%M:%S')\n",
      "print 'The time is      :', time.ctime(AxTime('#5606E28073D1'))\n",
      "\n",
      "print int( '0xffff', 16)\n",
      "\n",
      "\n",
      "print datetime.datetime(2009, 5, 5)"
     ],
     "language": "python",
     "metadata": {},
     "outputs": [
      {
       "output_type": "stream",
       "stream": "stdout",
       "text": [
        "The time is: 1443313799.67\n",
        "The time is      : Sun Sep 27 02:29:59 2015\n",
        "The time is      : Sun Sep 27 02:29:59 2015\n",
        "65535\n",
        "2009-05-05 00:00:00\n"
       ]
      }
     ],
     "prompt_number": 9
    },
    {
     "cell_type": "code",
     "collapsed": false,
     "input": [
      "import time\n",
      "\n",
      "print 'The time is:', time.time()\n",
      "print 'The time is      :', time.ctime()\n",
      "later = time.time()  + 15\n",
      "print 'The time is      :', time.ctime(later)\n",
      "\n"
     ],
     "language": "python",
     "metadata": {},
     "outputs": [
      {
       "output_type": "stream",
       "stream": "stdout",
       "text": [
        "The time is: 1452768997.65\n",
        "The time is      : Thu Jan 14 11:56:37 2016\n",
        "The time is      : Thu Jan 14 11:56:52 2016\n"
       ]
      }
     ],
     "prompt_number": 8
    },
    {
     "cell_type": "code",
     "collapsed": false,
     "input": [
      "print AxTime('#569673702509')\n",
      "print time.time()\n"
     ],
     "language": "python",
     "metadata": {},
     "outputs": [
      {
       "output_type": "stream",
       "stream": "stdout",
       "text": [
        "1452722694.93\n",
        "1452768998.58\n"
       ]
      }
     ],
     "prompt_number": 9
    },
    {
     "cell_type": "code",
     "collapsed": false,
     "input": [
      "from datetime import datetime \n",
      "ts = AxTime('#5606E28073D1')\n",
      "print datetime.fromtimestamp(ts)"
     ],
     "language": "python",
     "metadata": {},
     "outputs": [
      {
       "output_type": "stream",
       "stream": "stdout",
       "text": [
        "2015-09-27 02:29:59.673228\n"
       ]
      }
     ],
     "prompt_number": 2
    },
    {
     "cell_type": "code",
     "collapsed": false,
     "input": [],
     "language": "python",
     "metadata": {},
     "outputs": []
    }
   ],
   "metadata": {}
  }
 ]
}