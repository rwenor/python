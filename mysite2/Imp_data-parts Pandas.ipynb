{
 "cells": [
  {
   "cell_type": "code",
   "execution_count": 2,
   "metadata": {
    "collapsed": false
   },
   "outputs": [
    {
     "name": "stdout",
     "output_type": "stream",
     "text": [
      "    id  mn_Name                       mn_Url\n",
      "0    0     luft                         null\n",
      "1    1      Min  http://rwe1814.asuscomm.com\n",
      "2    2      Din  http://rwe1814.asuscomm.com\n",
      "3  101  Acte AS       http://www.Acte AS.com\n",
      "4  102   Axicon        http://www.Axicon.com\n"
     ]
    }
   ],
   "source": [
    "import pandas as pd\n",
    "import numpy as np\n",
    "import sqlite3\n",
    "import math\n",
    "\n",
    "# Read sqlite query results into a pandas DataFrame\n",
    "con = sqlite3.connect(\"db.sqlite3\")\n",
    "df = pd.read_sql(\"SELECT * from polls_mn_name\", con)\n",
    "\n",
    "# verify that result of SQL query is stored in the dataframe\n",
    "print df.head()\n",
    "\n",
    "# con.close()"
   ]
  },
  {
   "cell_type": "code",
   "execution_count": 3,
   "metadata": {
    "collapsed": false
   },
   "outputs": [],
   "source": [
    "d= dict([(i,a) for i, a in zip(df.mn_Name, df.id)])"
   ]
  },
  {
   "cell_type": "code",
   "execution_count": 4,
   "metadata": {
    "collapsed": false
   },
   "outputs": [
    {
     "data": {
      "text/plain": [
       "{u'Acte AS': 101,\n",
       " u'Axicon': 102,\n",
       " u'BilXtra Sk\\xe5rer': 103,\n",
       " u'CBK': 104,\n",
       " u'Craftec': 105,\n",
       " u'Digi-Key': 106,\n",
       " u'Din': 2,\n",
       " u'Elfa': 107,\n",
       " u'Farnell': 108,\n",
       " u'Hamre': 109,\n",
       " u'KGS': 110,\n",
       " u'KMV': 111,\n",
       " u'Min': 1,\n",
       " u'O.Olsen': 112,\n",
       " u'PCBCart': 113,\n",
       " u'Produktmerking AS': 114,\n",
       " u'RS Comp': 115,\n",
       " u'Tessta': 116,\n",
       " u'Tingstad': 117,\n",
       " u'Unica AS': 118,\n",
       " u'Xymox': 119,\n",
       " u'linkeson (kina)': 120,\n",
       " u'luft': 0,\n",
       " u'nan': 121}"
      ]
     },
     "execution_count": 4,
     "metadata": {},
     "output_type": "execute_result"
    }
   ],
   "source": [
    "d"
   ]
  },
  {
   "cell_type": "code",
   "execution_count": 5,
   "metadata": {
    "collapsed": false
   },
   "outputs": [
    {
     "data": {
      "text/plain": [
       "102"
      ]
     },
     "execution_count": 5,
     "metadata": {},
     "output_type": "execute_result"
    }
   ],
   "source": [
    "d['Axicon']"
   ]
  },
  {
   "cell_type": "code",
   "execution_count": 7,
   "metadata": {
    "collapsed": false
   },
   "outputs": [],
   "source": [
    "df = pd.read_csv(\"parts-ax200\", sep='\\t')"
   ]
  },
  {
   "cell_type": "code",
   "execution_count": 11,
   "metadata": {
    "collapsed": false
   },
   "outputs": [
    {
     "data": {
      "text/plain": [
       "'     102 Sortering Lage lok  mamut nr                    prod produkt nr  \\\\\\n0    103         1      NaN    101526                                NaN   \\n1    104         2      NaN    101527                                NaN   \\n2    105         3      NaN    101528                                NaN   \\n3    106         4      NaN    101509  se mamut nr? Oppdater til v2.0.1?   \\n4    107         5      NaN    101533                                NaN   \\n5    108         6      NaN       NaN                                NaN   \\n6    109         7      NaN    101554                                NaN   \\n7    110         8      NaN    100408                                  |   \\n8    111         9      NaN    100405                                NaN   \\n9    112        10      NaN       NaN          ?????? Standard flatkabel   \\n10   113        11      NaN    101527                                NaN   \\n11   114        12      NaN    101527                                NaN   \\n12   115        13      NaN       NaN                                NaN   \\n13   116        14      NaN    101516                                NaN   \\n14   117        15      NaN    101587                                NaN   \\n15   118        16      NaN    101541                                NaN   \\n16   119        17      NaN    101542                                NaN   \\n17   120        18      NaN       NaN                          F\\xc3\\xb8lger pc   \\n18   120        18    R5B94    101551                                NaN   \\n19   121        19      NaN       NaN                                NaN   \\n20   122        20    R5B94    101551                                NaN   \\n21  121a       19a      NaN       NaN                                NaN   \\n22   123        21      NaN    101752                                NaN   \\n23   124        22      NaN    101548                                NaN   \\n24   125        23      NaN    101545                                NaN   \\n25   126        24      NaN    101473                                NaN   \\n26   127        25      NaN    101549                                NaN   \\n27   128        26      NaN    101599                                NaN   \\n28   129        27      NaN    101579                                NaN   \\n29   130        28      NaN    101597                                NaN   \\n..   ...       ...      ...       ...                                ...   \\n40   142        40      NaN       NaN                                NaN   \\n41   143        41      NaN    101558                                NaN   \\n42   144        42      NaN       NaN                                NaN   \\n43   145        43      NaN       NaN                                NaN   \\n44   147        45      NaN       NaN                                NaN   \\n45   148        46      NaN       NaN                                NaN   \\n46   149        47      NaN       NaN                                NaN   \\n47   150        48      NaN       NaN                                NaN   \\n48   152        50      NaN    101535                                NaN   \\n49   153        51      NaN    101557                                NaN   \\n50   154        52      NaN       NaN                                NaN   \\n51   155        53      NaN    101573                                NaN   \\n52   156        54      NaN    101519                                NaN   \\n53   157        55      NaN    101560                                NaN   \\n54   158        56      NaN    101561                                NaN   \\n55   159        57      NaN    101562                                NaN   \\n56   160        58      NaN    101563                                NaN   \\n57   161        59      NaN       NaN                                NaN   \\n58   162        60      NaN    101619                                NaN   \\n59   163        61      NaN    100470                                NaN   \\n60   164        62      NaN    101699                                NaN   \\n61   165        63      NaN       NaN                          750010000   \\n62   166        64      NaN    101700                      SJ-5023 BLACK   \\n63   167        65      NaN    101606                                NaN   \\n64   168        66      NaN    101616                                NaN   \\n65   169        67      NaN    101612                                NaN   \\n66   170        68      NaN    101613                                NaN   \\n67   171        69      NaN    101614                                NaN   \\n68   172       NaN      NaN       NaN                                NaN   \\n69   173        69      NaN       NaN                                NaN   \\n\\n           levr pro nr       leverand\\xc3\\xb8r  \\\\\\n0              PCM3343              KGS   \\n1         CFDisk/PCExp              KGS   \\n2      MSWINXPEMBEDDED              KGS   \\n3    Hamre elektronikk            Hamre   \\n4          Part #54444            Xymox   \\n5                  NaN              NaN   \\n6            25-302-69             Elfa   \\n7            43-862-56             Elfa   \\n8            43-862-80             Elfa   \\n9                  NaN              NaN   \\n10             PCM3343              KGS   \\n11             PCM3343              KGS   \\n12                 NaN              NaN   \\n13                 KMV              KMV   \\n14            Unica AS         Unica AS   \\n15            133-9818          Farnell   \\n16           44-028-93             Elfa   \\n17                 KGS              NaN   \\n18             382-967          RS Comp   \\n19           48-012-25             Elfa   \\n20             382-967          RS Comp   \\n21           48-012-25             Elfa   \\n22          100166-013              KMV   \\n23             1420612          Farnell   \\n24             1420015          Farnell   \\n25             1420610          Farnell   \\n26              773015         Tingstad   \\n27             1419991          Farnell   \\n28             534-929          RS Comp   \\n29                 NaN          O.Olsen   \\n..                 ...              ...   \\n40                 NaN              NaN   \\n41           44-540-54             Elfa   \\n42             PCBCart          PCBCart   \\n43                 NaN              NaN   \\n44             1668192          Farnell   \\n45             1668168          Farnell   \\n46             1668190          Farnell   \\n47                 NaN  linkeson (kina)   \\n48           42-420-23             Elfa   \\n49           25-114-17             Elfa   \\n50                 NaN              NaN   \\n51             PCBCart          PCBCart   \\n52             Acte AS          Acte AS   \\n53             7472374          Farnell   \\n54             1248143          Farnell   \\n55             1835033          Farnell   \\n56              588738          Farnell   \\n57                 NaN              NaN   \\n58           PER-89078   BilXtra Sk\\xc3\\xa5rer   \\n59           80-876-03             Elfa   \\n60           80-877-28             Elfa   \\n61             4157500          O.Olsen   \\n62           48-865-94             Elfa   \\n63           58-114-97             Elfa   \\n64                 NaN           Axicon   \\n65           55-406-48             Elfa   \\n66           48-207-58             Elfa   \\n67           48-215-26             Elfa   \\n68                 NaN              NaN   \\n69  DDTD142JC-FDITR-ND         Digi-Key   \\n\\n                                        beskrivelse    a pris   ant  \\\\\\n0                               PCM-3343 hovedkort   2310.000   1.0   \\n1                              CF Disk til PCM-3343   605.000   1.0   \\n2            Windows XP embedded Run-Time lisens UK   610.000   1.0   \\n3                                  Axspeed 200 kort  3600.000   1.0   \\n4                             2x3 Brytere, tastatur    80.000   1.0   \\n5                                               NaN       NaN   NaN   \\n6                              Patch Cable Cat 0.3m     6.140   1.0   \\n7                       Inntak str\\xc3\\xb8m, 2 WAY, 22 AWG     0.570   1.0   \\n8        Kontakt for intern 5V power, 4 WAY, 22 AWG     1.010   3.0   \\n9                               flatkabel for str\\xc3\\xb8m       NaN   0.7   \\n10                 1 display, keyboard, mouse kabel       NaN   0.0   \\n11                RJ45 kabel for RJ45-PCM3343 plugg       NaN   0.0   \\n12                                              NaN       NaN   NaN   \\n13  Aluminium monteringsboks, maskinert og eloksert  2896.000   1.0   \\n14     Koffert for AXSPEED  -  Avropes etter behov!  1505.000   1.0   \\n15            RJ45 Netverk ekstern plugg, connector    95.000   1.0   \\n16                        Amphenol C091 plug, 3 way    35.000   1.0   \\n17            15mm avstand messing for PC, 15mm, M3       NaN   4.0   \\n18                6mm avstand plast for PC, 6mm, M3     1.440   4.0   \\n19        8mm avstand med M-F for chassie, 8mm, 3mm     1.440   4.0   \\n20                 avstand for display-pcb, 6mm, M3     1.217   4.0   \\n21                            Spacer bolt 8 mm 5 mm       NaN   4.0   \\n22                 Trykkfj\\xc3\\xa6r Display DIN2098 05x4x7    13.020   4.0   \\n23           skruer for display utsiden, M3X12, 3mm     0.309   4.0   \\n24        skruer for PCB + plugger, M3X6, 3mm, sort     0.340  10.0   \\n25             M3X8, Senke flat, til nettverksplugg       NaN   4.0   \\n26           M4X12, 4mm, A4 sotet for lokk til boks     1.660  12.0   \\n27                   skrue for jordtilkobling, M4X6     0.335   1.0   \\n28            6.3mm M5 fixing hole with 45deg blade     0.597   1.0   \\n29                 Tettningspakning for boks, 1,3mm       NaN   0.9   \\n..                                              ...       ...   ...   \\n40                     Montering flex intern kabler       NaN   NaN   \\n41                             MIL-C-26482 Amphenol   115.360   1.0   \\n42                    Intern Axspeed 200 flex-kabel   100.000   1.0   \\n43                                              NaN       NaN   NaN   \\n44                     20 pins plugg til flex kabel    16.000   3.0   \\n45  20 pins plugg til flex kabel (90 grader vinkel)    24.000   3.0   \\n46                     10 pins plugg til flex kabel    12.000   1.0   \\n47                        Montering BNC piezo kabel    12.720   8.0   \\n48                               RJ45 female-female   159.500   1.0   \\n49                               Patch Cable Cat 1m     9.670   1.0   \\n50                                              NaN       NaN   NaN   \\n51                   Tilkoblingskort Display/Bryter    12.140   1.0   \\n52                       Noritake Display GU160x64D   654.000   1.0   \\n53                    2x10 pin 2mm pitch pin header     8.450   1.0   \\n54                 1x5 pin 0.1inch pitch pin header     2.000   2.0   \\n55                 1x2 pin 0.1inch pitch pin header     7.580   1.0   \\n56                                Molex 4 pin power     0.960   1.0   \\n57                                              NaN       NaN   NaN   \\n58                    Klar RTV Silikon 80 ml (tube)    69.200   1.0   \\n59                               Loctite 480, svart   187.660   1.0   \\n60                           Loctite 406, hurtiglim   140.790   1.0   \\n61      Chemplex 750,silikonpasta (fett for O-ring)       NaN   1.0   \\n62                    Gummi fot, 4 stk. per boks ()     1.330   4.0   \\n63                ??????? Ferritblock 55 \\xce\\xa9 \\xe2\\x89\\xa4 16 pol     8.120   2.0   \\n64                                  Jordkabel K110A       NaN   NaN   \\n65        Koblingstr\\xc3\\xa5d, RADOX 125 4,0 mm\\xc2\\xb2 gr\\xc3\\xb8nn/gul     8.930   1.1   \\n66      Flatstiftshylse Gul 6.3 x 0.8 mm helisolert     1.156   1.0   \\n67                        Endehylse Gr\\xc3\\xa5 4 mm\\xc2\\xb2/12 mm     0.520   1.0   \\n68                                              NaN       NaN   NaN   \\n69                  TRANS PREBIAS NPN 200MW SOT23-3       NaN   1.0   \\n\\n             ...                Lager 0 LagerT LagerJ   LagerB  Reserve  \\\\\\n0            ...                      ?    NaN    NaN  #VALUE!  #VALUE!   \\n1            ...                      7    NaN    NaN        7     -143   \\n2            ...                      0    NaN    NaN        0     -150   \\n3            ...                      0    NaN      3      NaN      NaN   \\n4            ...                    220    NaN    NaN      220       70   \\n5            ...                    NaN    NaN    NaN      NaN      NaN   \\n6            ...                     60    NaN    NaN       60      -90   \\n7            ...                      v    NaN    NaN  #VALUE!  #VALUE!   \\n8            ...                    har    NaN    NaN  #VALUE!  #VALUE!   \\n9            ...                    NaN    NaN    NaN        0     -105   \\n10           ...                    NaN    NaN    NaN        0        0   \\n11           ...                    NaN    NaN    NaN        0        0   \\n12           ...                    NaN    NaN    NaN      NaN      NaN   \\n13           ...                     18    NaN    NaN       18     -132   \\n14           ...                     16    NaN    NaN       16     -134   \\n15           ...                     50    NaN    NaN       50     -100   \\n16           ...                      ?    NaN    NaN  #VALUE!  #VALUE!   \\n17           ...                      0    NaN    NaN        0     -600   \\n18           ...                      0    NaN    NaN        0     -600   \\n19           ...                      0    NaN    NaN        0     -600   \\n20           ...                      0    NaN    NaN        0     -600   \\n21           ...                    NaN    NaN    NaN      NaN      NaN   \\n22           ...                    750    NaN    NaN      750      150   \\n23           ...                    NaN    NaN    NaN        0     -600   \\n24           ...                    NaN    NaN    NaN        0    -1500   \\n25           ...                    800    NaN    NaN      800      200   \\n26           ...             over 9000?    NaN    NaN  #VALUE!  #VALUE!   \\n27           ...                      0    NaN    NaN        0     -150   \\n28           ...                      0    NaN    NaN        0     -150   \\n29           ...                    150    NaN    NaN      150       15   \\n..           ...                    ...    ...    ...      ...      ...   \\n40           ...                    NaN    NaN    NaN      NaN      NaN   \\n41           ...                      4    NaN    NaN        4     -146   \\n42           ...                      3    NaN    NaN        3        3   \\n43           ...                    NaN    NaN    NaN        0        0   \\n44           ...                      0    NaN    NaN      NaN      NaN   \\n45           ...                      0    NaN    NaN      NaN      NaN   \\n46           ...                      0    NaN    NaN      NaN      NaN   \\n47           ...                    420    NaN    NaN     1420      220   \\n48           ...                      9    NaN    NaN        9     -141   \\n49           ...                      v    NaN    NaN  #VALUE!  #VALUE!   \\n50           ...                    NaN    NaN    NaN      NaN      NaN   \\n51           ...                     30    NaN    NaN       30      380   \\n52           ...                    156    NaN    NaN      156        6   \\n53           ...                      0    NaN    NaN        0     -150   \\n54           ...                      0    NaN    NaN        0     -300   \\n55           ...                      0    NaN    NaN        0     -150   \\n56           ...                      0    NaN    NaN        0     -150   \\n57           ...                    NaN    NaN    NaN      NaN      NaN   \\n58           ...                    NaN    NaN    NaN        0     -150   \\n59           ...                    NaN    NaN    NaN        0     -150   \\n60           ...                    NaN    NaN    NaN        0     -150   \\n61           ...                    NaN    NaN    NaN        0     -150   \\n62           ...                    750    NaN    NaN      750      150   \\n63           ...                    NaN    NaN    NaN        0     -300   \\n64           ...                      0    NaN    NaN      NaN      NaN   \\n65           ...                      ?    NaN    NaN  #VALUE!  #VALUE!   \\n66           ...                      ?    NaN    NaN  #VALUE!  #VALUE!   \\n67           ...                      ?    NaN    NaN  #VALUE!  #VALUE!   \\n68           ...                    NaN    NaN    NaN      NaN      NaN   \\n69           ...                      0    NaN    NaN        0     -150   \\n\\n   \\xc3\\x98.best         dato best  Dato lev.    Lev. Tid            Leveringsinfo  \\n0     NaN               NaN        NaN      7 uker                IO: 80609  \\n1     NaN               NaN        NaN      7 uker                IO: 80609  \\n2     NaN               NaN        NaN      7 uker                IO: 80609  \\n3     NaN               NaN        NaN     12 uker  hamre har deler til 150  \\n4     NaN               NaN        NaN         NaN                      NaN  \\n5     NaN               NaN        NaN         NaN                      NaN  \\n6     NaN               NaN        NaN      2 uker                      NaN  \\n7     NaN               NaN        NaN         NaN                      NaN  \\n8     NaN               NaN        NaN         NaN                      NaN  \\n9     NaN               NaN        NaN         NaN                      NaN  \\n10    NaN               NaN        NaN         NaN                      NaN  \\n11    NaN               NaN        NaN         NaN                      NaN  \\n12    NaN               NaN        NaN         NaN                      NaN  \\n13    NaN               NaN        NaN   8-10 uker                      NaN  \\n14    NaN               NaN        NaN      2 uker               IO:80581,   \\n15    NaN               NaN        NaN         NaN                      NaN  \\n16    NaN               NaN        NaN   ca 4 uker                      NaN  \\n17    NaN               NaN        NaN         NaN                      NaN  \\n18    NaN               NaN        NaN         NaN                      NaN  \\n19    NaN               NaN        NaN         NaN                      NaN  \\n20    NaN               NaN        NaN         NaN                      NaN  \\n21    NaN               NaN        NaN         NaN                      NaN  \\n22    NaN               NaN        NaN         NaN                      NaN  \\n23    NaN               NaN        NaN         NaN                      NaN  \\n24    NaN               NaN        NaN         NaN                      NaN  \\n25    NaN               NaN        NaN         NaN                      NaN  \\n26    NaN               NaN        NaN         NaN                      NaN  \\n27    NaN               NaN        NaN         NaN                      NaN  \\n28    NaN               NaN        NaN         NaN                      NaN  \\n29    NaN               NaN        NaN         NaN                      NaN  \\n..    ...               ...        ...         ...                      ...  \\n40    NaN               NaN        NaN         NaN                      NaN  \\n41    NaN               NaN        NaN         NaN                      NaN  \\n42    NaN        2015-10-XX        NaN      2 uker                      NaN  \\n43    NaN               NaN        NaN         NaN                      NaN  \\n44    NaN               NaN        NaN         NaN                      NaN  \\n45    NaN               NaN        NaN         NaN                      NaN  \\n46    NaN               NaN        NaN         NaN                      NaN  \\n47    NaN         9/23/2015        NaN      2 uker                      NaN  \\n48    NaN               NaN        NaN         NaN                      NaN  \\n49    NaN               NaN        NaN         NaN                      NaN  \\n50    NaN               NaN        NaN         NaN                      NaN  \\n51    NaN  under behandling        NaN      3 uker                      NaN  \\n52    NaN               NaN        NaN  12-14 uker                IO: 80574  \\n53    NaN               NaN        NaN         NaN                      NaN  \\n54    NaN               NaN        NaN         NaN                      NaN  \\n55    NaN               NaN        NaN      2 uker                      NaN  \\n56    NaN               NaN        NaN         NaN                      NaN  \\n57    NaN               NaN        NaN         NaN                      NaN  \\n58    NaN               NaN        NaN         NaN                      NaN  \\n59    NaN               NaN        NaN         NaN                      NaN  \\n60    NaN               NaN        NaN         NaN                      NaN  \\n61    NaN               NaN        NaN         NaN                      NaN  \\n62    NaN               NaN        NaN         NaN                      NaN  \\n63    NaN               NaN        NaN         NaN                      NaN  \\n64    NaN               NaN        NaN         NaN                      NaN  \\n65    NaN               NaN        NaN         NaN                      NaN  \\n66    NaN               NaN        NaN         NaN                      NaN  \\n67    NaN               NaN        NaN         NaN                      NaN  \\n68    NaN               NaN        NaN         NaN                      NaN  \\n69    NaN               NaN        NaN         NaN                      NaN  \\n\\n[70 rows x 25 columns]'"
      ]
     },
     "execution_count": 11,
     "metadata": {},
     "output_type": "execute_result"
    }
   ],
   "source": [
    "str(df)"
   ]
  },
  {
   "cell_type": "code",
   "execution_count": null,
   "metadata": {
    "collapsed": false
   },
   "outputs": [],
   "source": []
  },
  {
   "cell_type": "code",
   "execution_count": 12,
   "metadata": {
    "collapsed": false
   },
   "outputs": [
    {
     "name": "stdout",
     "output_type": "stream",
     "text": [
      "103\n",
      "1\n",
      "nan\n",
      "101526.0\n",
      "nan\n",
      "PCM3343\n",
      "KGS\n",
      "PCM-3343 hovedkort \n",
      "2310.0\n",
      "1.0\n",
      "2310.0\n",
      "NB!NB! For Axspeed 200 ikke inkluder 2stk Com kabel 1701200220\n",
      "150\n",
      "20.0\n",
      "?\n",
      "?\n",
      "nan\n",
      "nan\n",
      "#VALUE!\n",
      "#VALUE!\n",
      "nan\n",
      "nan\n",
      "nan\n",
      "7 uker\n",
      "IO: 80609\n"
     ]
    }
   ],
   "source": [
    "#print dfl.ix[5]\n",
    "\n",
    "for row in df.ix[0]:\n",
    "    print row\n",
    "\n",
    "#for i in df.index:\n",
    "#    print df.icol(i)"
   ]
  },
  {
   "cell_type": "code",
   "execution_count": 13,
   "metadata": {
    "collapsed": false
   },
   "outputs": [
    {
     "ename": "SyntaxError",
     "evalue": "invalid syntax (<ipython-input-13-408a8e6c7730>, line 7)",
     "output_type": "error",
     "traceback": [
      "\u001b[0;36m  File \u001b[0;32m\"<ipython-input-13-408a8e6c7730>\"\u001b[0;36m, line \u001b[0;32m7\u001b[0m\n\u001b[0;31m    print str(nr) +'\\t' + df.ix[i][]\u001b[0m\n\u001b[0m                                   ^\u001b[0m\n\u001b[0;31mSyntaxError\u001b[0m\u001b[0;31m:\u001b[0m invalid syntax\n"
     ]
    }
   ],
   "source": [
    "nr = 101\n",
    "for i in df.index:\n",
    "    pa = df.ix[i]\n",
    "    #if pa['mamut nr'] = nan:\n",
    "    #    next\n",
    "    \n",
    "    print str(nr) +'\\t' + df.ix[i][]\n",
    "    nr += 1"
   ]
  },
  {
   "cell_type": "code",
   "execution_count": 78,
   "metadata": {
    "collapsed": false
   },
   "outputs": [
    {
     "name": "stdout",
     "output_type": "stream",
     "text": [
      "0\t101526\tPCM-3343 hovedkort \n",
      "1\t101527\tCF Disk til PCM-3343\n",
      "2\t101528\tWindows XP embedded Run-Time lisens UK\n",
      "3\t101509\tAxspeed 200 kort\n",
      "4\t101533\t2x3 Brytere, tastatur\n",
      "6\t101554\tPatch Cable Cat 0.3m\n",
      "7\t100408\tInntak strøm, 2 WAY, 22 AWG\n",
      "8\t100405\tKontakt for intern 5V power, 4 WAY, 22 AWG\n",
      "10\t101527\t1 display, keyboard, mouse kabel\n",
      "11\t101527\tRJ45 kabel for RJ45-PCM3343 plugg\n",
      "13\t101516\tAluminium monteringsboks, maskinert og eloksert\n",
      "14\t101587\tKoffert for AXSPEED  -  Avropes etter behov!\n",
      "15\t101541\tRJ45 Netverk ekstern plugg, connector\n",
      "16\t101542\tAmphenol C091 plug, 3 way\n",
      "18\t101551\t6mm avstand plast for PC, 6mm, M3\n",
      "20\t101551\tavstand for display-pcb, 6mm, M3\n",
      "22\t101752\tTrykkfjær Display DIN2098 05x4x7\n",
      "23\t101548\tskruer for display utsiden, M3X12, 3mm\n",
      "24\t101545\tskruer for PCB + plugger, M3X6, 3mm, sort\n",
      "25\t101473\tM3X8, Senke flat, til nettverksplugg\n",
      "26\t101549\tM4X12, 4mm, A4 sotet for lokk til boks\n",
      "27\t101599\tskrue for jordtilkobling, M4X6\n",
      "28\t101579\t6.3mm M5 fixing hole with 45deg blade\n",
      "29\t101597\tTettningspakning for boks, 1,3mm\n",
      "30\t101767\tSidefolie med navn på piezo, lexan?\n",
      "31\t101766\tFrontfolie med navn og meny, lexan\n",
      "32\t101546\tStøvkappe for loop plugg \n",
      "33\t101565\tStøvkappe for piezo pluggene\n",
      "34\t101512\tMontering plugg på power\n",
      "35\t101512\tCraftec power adapter 12C 30W\n",
      "36\t101714\tStrømkabel 1,0m\n",
      "37\t101555\tHylsepropp IP67 3-pol AMPHENOL\n",
      "38\t101555\tEkstern PSU - Boks Kabel/kontakt AMPHENOL 3W\n",
      "39\t101547\tOvergang fra Craftec til plugg \n",
      "41\t101558\tMIL-C-26482 Amphenol\n",
      "48\t101535\tRJ45 female-female\n",
      "49\t101557\tPatch Cable Cat 1m\n",
      "51\t101573\tTilkoblingskort Display/Bryter\n",
      "52\t101519\tNoritake Display GU160x64D\n",
      "53\t101560\t2x10 pin 2mm pitch pin header\n",
      "54\t101561\t1x5 pin 0.1inch pitch pin header\n",
      "55\t101562\t1x2 pin 0.1inch pitch pin header\n",
      "56\t101563\tMolex 4 pin power\n",
      "58\t101619\tKlar RTV Silikon 80 ml (tube)\n",
      "59\t100470\tLoctite 480, svart\n",
      "60\t101699\tLoctite 406, hurtiglim\n",
      "62\t101700\tGummi fot, 4 stk. per boks ()\n",
      "63\t101606\t??????? Ferritblock 55 Ω ≤ 16 pol\n",
      "64\t101616\tJordkabel K110A\n",
      "65\t101612\tKoblingstråd, RADOX 125 4,0 mm² grønn/gul\n",
      "66\t101613\tFlatstiftshylse Gul 6.3 x 0.8 mm helisolert\n",
      "67\t101614\tEndehylse Grå 4 mm²/12 mm\n"
     ]
    }
   ],
   "source": [
    "for i in df.index:\n",
    "    if math.isnan( df.iloc[i]['mamut nr'] ):\n",
    "        #print 'Next', i\n",
    "        continue\n",
    "        \n",
    "    print '%d\\t%d\\t%s' % (i, df.iloc[i]['mamut nr'], df.iloc[i]['beskrivelse'],)\n",
    "    #print i, df.iloc[i]['mamut nr'], math.isnan( df.iloc[i]['mamut nr'] )"
   ]
  },
  {
   "cell_type": "code",
   "execution_count": 71,
   "metadata": {
    "collapsed": false
   },
   "outputs": [
    {
     "data": {
      "text/plain": [
       "False"
      ]
     },
     "execution_count": 71,
     "metadata": {},
     "output_type": "execute_result"
    }
   ],
   "source": [
    "df.iloc[5]['mamut nr'] == None"
   ]
  },
  {
   "cell_type": "code",
   "execution_count": null,
   "metadata": {
    "collapsed": true
   },
   "outputs": [],
   "source": []
  },
  {
   "cell_type": "code",
   "execution_count": null,
   "metadata": {
    "collapsed": true
   },
   "outputs": [],
   "source": []
  }
 ],
 "metadata": {
  "kernelspec": {
   "display_name": "Python 2",
   "language": "python",
   "name": "python2"
  },
  "language_info": {
   "codemirror_mode": {
    "name": "ipython",
    "version": 2
   },
   "file_extension": ".py",
   "mimetype": "text/x-python",
   "name": "python",
   "nbconvert_exporter": "python",
   "pygments_lexer": "ipython2",
   "version": "2.7.10"
  }
 },
 "nbformat": 4,
 "nbformat_minor": 0
}
