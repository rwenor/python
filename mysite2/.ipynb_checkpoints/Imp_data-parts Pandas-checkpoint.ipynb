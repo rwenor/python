{
 "cells": [
  {
   "cell_type": "code",
   "execution_count": 3,
   "metadata": {
    "collapsed": false
   },
   "outputs": [
    {
     "name": "stdout",
     "output_type": "stream",
     "text": [
      "    id  mn_Name                       mn_Url\n",
      "0    0     luft                         null\n",
      "1    1      Min  http://rwe1814.asuscomm.com\n",
      "2    2      Din  http://rwe1814.asuscomm.com\n",
      "3  101  Acte AS       http://www.Acte AS.com\n",
      "4  102   Axicon        http://www.Axicon.com\n"
     ]
    }
   ],
   "source": [
    "import pandas as pd\n",
    "import sqlite3\n",
    "\n",
    "# Read sqlite query results into a pandas DataFrame\n",
    "con = sqlite3.connect(\"db.sqlite3\")\n",
    "df = pd.read_sql(\"SELECT * from polls_mn_name\", con)\n",
    "\n",
    "# verify that result of SQL query is stored in the dataframe\n",
    "print df.head()\n",
    "\n",
    "# con.close()"
   ]
  },
  {
   "cell_type": "code",
   "execution_count": 7,
   "metadata": {
    "collapsed": false
   },
   "outputs": [],
   "source": [
    "d= dict([(i,a) for i, a in zip(df.mn_Name, df.id)])"
   ]
  },
  {
   "cell_type": "code",
   "execution_count": 8,
   "metadata": {
    "collapsed": false
   },
   "outputs": [
    {
     "data": {
      "text/plain": [
       "{u'Acte AS': 101,\n",
       " u'Axicon': 102,\n",
       " u'BilXtra Sk\\xe5rer': 103,\n",
       " u'CBK': 104,\n",
       " u'Craftec': 105,\n",
       " u'Digi-Key': 106,\n",
       " u'Din': 2,\n",
       " u'Elfa': 107,\n",
       " u'Farnell': 108,\n",
       " u'Hamre': 109,\n",
       " u'KGS': 110,\n",
       " u'KMV': 111,\n",
       " u'Min': 1,\n",
       " u'O.Olsen': 112,\n",
       " u'PCBCart': 113,\n",
       " u'Produktmerking AS': 114,\n",
       " u'RS Comp': 115,\n",
       " u'Tessta': 116,\n",
       " u'Tingstad': 117,\n",
       " u'Unica AS': 118,\n",
       " u'Xymox': 119,\n",
       " u'linkeson (kina)': 120,\n",
       " u'luft': 0}"
      ]
     },
     "execution_count": 8,
     "metadata": {},
     "output_type": "execute_result"
    }
   ],
   "source": [
    "d"
   ]
  },
  {
   "cell_type": "code",
   "execution_count": 13,
   "metadata": {
    "collapsed": false
   },
   "outputs": [
    {
     "data": {
      "text/plain": [
       "102"
      ]
     },
     "execution_count": 13,
     "metadata": {},
     "output_type": "execute_result"
    }
   ],
   "source": [
    "d['Axicon']"
   ]
  },
  {
   "cell_type": "code",
   "execution_count": 14,
   "metadata": {
    "collapsed": false
   },
   "outputs": [],
   "source": [
    "df = pd.read_csv(\"parts-ax200\", sep='\\t')"
   ]
  },
  {
   "cell_type": "code",
   "execution_count": 19,
   "metadata": {
    "collapsed": false
   },
   "outputs": [
    {
     "data": {
      "text/html": [
       "<div style=\"max-height:1000px;max-width:1500px;overflow:auto;\">\n",
       "<table border=\"1\" class=\"dataframe\">\n",
       "  <thead>\n",
       "    <tr style=\"text-align: right;\">\n",
       "      <th></th>\n",
       "      <th>102</th>\n",
       "      <th>Sortering</th>\n",
       "      <th>Lage lok</th>\n",
       "      <th>mamut nr</th>\n",
       "      <th>prod produkt nr</th>\n",
       "      <th>levr pro nr</th>\n",
       "      <th>leverandør</th>\n",
       "      <th>beskrivelse</th>\n",
       "      <th>a pris</th>\n",
       "      <th>ant</th>\n",
       "      <th>Pris</th>\n",
       "      <th>Kommentar</th>\n",
       "      <th>Behov</th>\n",
       "      <th>Mottatt</th>\n",
       "      <th>Best. ant</th>\n",
       "      <th>Lager 0</th>\n",
       "      <th>LagerT</th>\n",
       "      <th>LagerJ</th>\n",
       "      <th>LagerB</th>\n",
       "      <th>Reserve</th>\n",
       "      <th></th>\n",
       "    </tr>\n",
       "  </thead>\n",
       "  <tbody>\n",
       "    <tr>\n",
       "      <th>0</th>\n",
       "      <td> 103</td>\n",
       "      <td> 1</td>\n",
       "      <td> NaN</td>\n",
       "      <td> 101526</td>\n",
       "      <td>                               NaN</td>\n",
       "      <td>           PCM3343</td>\n",
       "      <td>   KGS</td>\n",
       "      <td>                    PCM-3343 hovedkort </td>\n",
       "      <td> 2310</td>\n",
       "      <td>  1</td>\n",
       "      <td> 2310</td>\n",
       "      <td> NB!NB! For Axspeed 200 ikke inkluder 2stk Com ...</td>\n",
       "      <td> 150</td>\n",
       "      <td> 20</td>\n",
       "      <td>   ?</td>\n",
       "      <td>   ?</td>\n",
       "      <td>NaN</td>\n",
       "      <td>NaN</td>\n",
       "      <td> #VALUE!</td>\n",
       "      <td> #VALUE!</td>\n",
       "      <td>...</td>\n",
       "    </tr>\n",
       "    <tr>\n",
       "      <th>1</th>\n",
       "      <td> 104</td>\n",
       "      <td> 2</td>\n",
       "      <td> NaN</td>\n",
       "      <td> 101527</td>\n",
       "      <td>                               NaN</td>\n",
       "      <td>      CFDisk/PCExp</td>\n",
       "      <td>   KGS</td>\n",
       "      <td>                   CF Disk til PCM-3343</td>\n",
       "      <td>  605</td>\n",
       "      <td>  1</td>\n",
       "      <td>  605</td>\n",
       "      <td>                                        TS4GCF200I</td>\n",
       "      <td> 150</td>\n",
       "      <td>NaN</td>\n",
       "      <td> NaN</td>\n",
       "      <td>   7</td>\n",
       "      <td>NaN</td>\n",
       "      <td>NaN</td>\n",
       "      <td>       7</td>\n",
       "      <td>    -143</td>\n",
       "      <td>...</td>\n",
       "    </tr>\n",
       "    <tr>\n",
       "      <th>2</th>\n",
       "      <td> 105</td>\n",
       "      <td> 3</td>\n",
       "      <td> NaN</td>\n",
       "      <td> 101528</td>\n",
       "      <td>                               NaN</td>\n",
       "      <td>   MSWINXPEMBEDDED</td>\n",
       "      <td>   KGS</td>\n",
       "      <td> Windows XP embedded Run-Time lisens UK</td>\n",
       "      <td>  610</td>\n",
       "      <td>  1</td>\n",
       "      <td>  610</td>\n",
       "      <td>                   lisens  Otto sender nytt Image!</td>\n",
       "      <td> 150</td>\n",
       "      <td>NaN</td>\n",
       "      <td> NaN</td>\n",
       "      <td>   0</td>\n",
       "      <td>NaN</td>\n",
       "      <td>NaN</td>\n",
       "      <td>       0</td>\n",
       "      <td>    -150</td>\n",
       "      <td>...</td>\n",
       "    </tr>\n",
       "    <tr>\n",
       "      <th>3</th>\n",
       "      <td> 106</td>\n",
       "      <td> 4</td>\n",
       "      <td> NaN</td>\n",
       "      <td> 101509</td>\n",
       "      <td> se mamut nr? Oppdater til v2.0.1?</td>\n",
       "      <td> Hamre elektronikk</td>\n",
       "      <td> Hamre</td>\n",
       "      <td>                       Axspeed 200 kort</td>\n",
       "      <td> 3600</td>\n",
       "      <td>  1</td>\n",
       "      <td> 3600</td>\n",
       "      <td>                                               NaN</td>\n",
       "      <td> 150</td>\n",
       "      <td> 15</td>\n",
       "      <td>  15</td>\n",
       "      <td>   0</td>\n",
       "      <td>NaN</td>\n",
       "      <td>  3</td>\n",
       "      <td>     NaN</td>\n",
       "      <td>     NaN</td>\n",
       "      <td>...</td>\n",
       "    </tr>\n",
       "    <tr>\n",
       "      <th>4</th>\n",
       "      <td> 107</td>\n",
       "      <td> 5</td>\n",
       "      <td> NaN</td>\n",
       "      <td> 101533</td>\n",
       "      <td>                               NaN</td>\n",
       "      <td>       Part #54444</td>\n",
       "      <td> Xymox</td>\n",
       "      <td>                  2x3 Brytere, tastatur</td>\n",
       "      <td>   80</td>\n",
       "      <td>  1</td>\n",
       "      <td>   80</td>\n",
       "      <td>                            Part #54444 2x3 keypad</td>\n",
       "      <td> 150</td>\n",
       "      <td>NaN</td>\n",
       "      <td> NaN</td>\n",
       "      <td> 220</td>\n",
       "      <td>NaN</td>\n",
       "      <td>NaN</td>\n",
       "      <td>     220</td>\n",
       "      <td>      70</td>\n",
       "      <td>...</td>\n",
       "    </tr>\n",
       "    <tr>\n",
       "      <th>5</th>\n",
       "      <td> 108</td>\n",
       "      <td> 6</td>\n",
       "      <td> NaN</td>\n",
       "      <td>    NaN</td>\n",
       "      <td>                               NaN</td>\n",
       "      <td>               NaN</td>\n",
       "      <td>   NaN</td>\n",
       "      <td>                                    NaN</td>\n",
       "      <td>  NaN</td>\n",
       "      <td>NaN</td>\n",
       "      <td>  NaN</td>\n",
       "      <td>                                               NaN</td>\n",
       "      <td> NaN</td>\n",
       "      <td>NaN</td>\n",
       "      <td> NaN</td>\n",
       "      <td> NaN</td>\n",
       "      <td>NaN</td>\n",
       "      <td>NaN</td>\n",
       "      <td>     NaN</td>\n",
       "      <td>     NaN</td>\n",
       "      <td>...</td>\n",
       "    </tr>\n",
       "  </tbody>\n",
       "</table>\n",
       "<p>6 rows × 25 columns</p>\n",
       "</div>"
      ],
      "text/plain": [
       "   102 Sortering Lage lok  mamut nr                    prod produkt nr  \\\n",
       "0  103         1      NaN    101526                                NaN   \n",
       "1  104         2      NaN    101527                                NaN   \n",
       "2  105         3      NaN    101528                                NaN   \n",
       "3  106         4      NaN    101509  se mamut nr? Oppdater til v2.0.1?   \n",
       "4  107         5      NaN    101533                                NaN   \n",
       "5  108         6      NaN       NaN                                NaN   \n",
       "\n",
       "         levr pro nr leverandør                             beskrivelse  \\\n",
       "0            PCM3343        KGS                     PCM-3343 hovedkort    \n",
       "1       CFDisk/PCExp        KGS                    CF Disk til PCM-3343   \n",
       "2    MSWINXPEMBEDDED        KGS  Windows XP embedded Run-Time lisens UK   \n",
       "3  Hamre elektronikk      Hamre                        Axspeed 200 kort   \n",
       "4        Part #54444      Xymox                   2x3 Brytere, tastatur   \n",
       "5                NaN        NaN                                     NaN   \n",
       "\n",
       "   a pris  ant  Pris                                          Kommentar Behov  \\\n",
       "0    2310    1  2310  NB!NB! For Axspeed 200 ikke inkluder 2stk Com ...   150   \n",
       "1     605    1   605                                         TS4GCF200I   150   \n",
       "2     610    1   610                    lisens  Otto sender nytt Image!   150   \n",
       "3    3600    1  3600                                                NaN   150   \n",
       "4      80    1    80                             Part #54444 2x3 keypad   150   \n",
       "5     NaN  NaN   NaN                                                NaN   NaN   \n",
       "\n",
       "   Mottatt Best. ant Lager 0  LagerT  LagerJ   LagerB  Reserve      \n",
       "0       20         ?       ?     NaN     NaN  #VALUE!  #VALUE! ...  \n",
       "1      NaN       NaN       7     NaN     NaN        7     -143 ...  \n",
       "2      NaN       NaN       0     NaN     NaN        0     -150 ...  \n",
       "3       15        15       0     NaN       3      NaN      NaN ...  \n",
       "4      NaN       NaN     220     NaN     NaN      220       70 ...  \n",
       "5      NaN       NaN     NaN     NaN     NaN      NaN      NaN ...  \n",
       "\n",
       "[6 rows x 25 columns]"
      ]
     },
     "execution_count": 19,
     "metadata": {},
     "output_type": "execute_result"
    }
   ],
   "source": [
    "df.head(6)"
   ]
  },
  {
   "cell_type": "code",
   "execution_count": 15,
   "metadata": {
    "collapsed": false
   },
   "outputs": [],
   "source": []
  },
  {
   "cell_type": "code",
   "execution_count": 4,
   "metadata": {
    "collapsed": false
   },
   "outputs": [
    {
     "ename": "IndexError",
     "evalue": "index out of bounds",
     "output_type": "error",
     "traceback": [
      "\u001b[0;31m---------------------------------------------------------------------------\u001b[0m",
      "\u001b[0;31mIndexError\u001b[0m                                Traceback (most recent call last)",
      "\u001b[0;32m<ipython-input-4-07a3ec487f81>\u001b[0m in \u001b[0;36m<module>\u001b[0;34m()\u001b[0m\n\u001b[1;32m      4\u001b[0m \u001b[0;31m#    print row\u001b[0m\u001b[0;34m\u001b[0m\u001b[0;34m\u001b[0m\u001b[0m\n\u001b[1;32m      5\u001b[0m \u001b[0;32mfor\u001b[0m \u001b[0mi\u001b[0m \u001b[0;32min\u001b[0m \u001b[0mdf\u001b[0m\u001b[0;34m.\u001b[0m\u001b[0mindex\u001b[0m\u001b[0;34m:\u001b[0m\u001b[0;34m\u001b[0m\u001b[0m\n\u001b[0;32m----> 6\u001b[0;31m     \u001b[0;32mprint\u001b[0m \u001b[0;34m\"\"\u001b[0m\u001b[0;34m.\u001b[0m\u001b[0mformat\u001b[0m\u001b[0;34m(\u001b[0m\u001b[0mdf\u001b[0m\u001b[0;34m.\u001b[0m\u001b[0mix\u001b[0m\u001b[0;34m[\u001b[0m\u001b[0mi\u001b[0m\u001b[0;34m]\u001b[0m\u001b[0;34m[\u001b[0m\u001b[0;36m3\u001b[0m\u001b[0;34m]\u001b[0m\u001b[0;34m)\u001b[0m \u001b[0;31m#.name +\"')\"\u001b[0m\u001b[0;34m\u001b[0m\u001b[0m\n\u001b[0m",
      "\u001b[0;32m/Library/Python/2.7/site-packages/pandas/core/series.pyc\u001b[0m in \u001b[0;36m__getitem__\u001b[0;34m(self, key)\u001b[0m\n\u001b[1;32m    519\u001b[0m     \u001b[0;32mdef\u001b[0m \u001b[0m__getitem__\u001b[0m\u001b[0;34m(\u001b[0m\u001b[0mself\u001b[0m\u001b[0;34m,\u001b[0m \u001b[0mkey\u001b[0m\u001b[0;34m)\u001b[0m\u001b[0;34m:\u001b[0m\u001b[0;34m\u001b[0m\u001b[0m\n\u001b[1;32m    520\u001b[0m         \u001b[0;32mtry\u001b[0m\u001b[0;34m:\u001b[0m\u001b[0;34m\u001b[0m\u001b[0m\n\u001b[0;32m--> 521\u001b[0;31m             \u001b[0mresult\u001b[0m \u001b[0;34m=\u001b[0m \u001b[0mself\u001b[0m\u001b[0;34m.\u001b[0m\u001b[0mindex\u001b[0m\u001b[0;34m.\u001b[0m\u001b[0mget_value\u001b[0m\u001b[0;34m(\u001b[0m\u001b[0mself\u001b[0m\u001b[0;34m,\u001b[0m \u001b[0mkey\u001b[0m\u001b[0;34m)\u001b[0m\u001b[0;34m\u001b[0m\u001b[0m\n\u001b[0m\u001b[1;32m    522\u001b[0m \u001b[0;34m\u001b[0m\u001b[0m\n\u001b[1;32m    523\u001b[0m             \u001b[0;32mif\u001b[0m \u001b[0;32mnot\u001b[0m \u001b[0mnp\u001b[0m\u001b[0;34m.\u001b[0m\u001b[0misscalar\u001b[0m\u001b[0;34m(\u001b[0m\u001b[0mresult\u001b[0m\u001b[0;34m)\u001b[0m\u001b[0;34m:\u001b[0m\u001b[0;34m\u001b[0m\u001b[0m\n",
      "\u001b[0;32m/Library/Python/2.7/site-packages/pandas/core/index.pyc\u001b[0m in \u001b[0;36mget_value\u001b[0;34m(self, series, key)\u001b[0m\n\u001b[1;32m   1599\u001b[0m \u001b[0;34m\u001b[0m\u001b[0m\n\u001b[1;32m   1600\u001b[0m             \u001b[0;32mtry\u001b[0m\u001b[0;34m:\u001b[0m\u001b[0;34m\u001b[0m\u001b[0m\n\u001b[0;32m-> 1601\u001b[0;31m                 \u001b[0;32mreturn\u001b[0m \u001b[0mtslib\u001b[0m\u001b[0;34m.\u001b[0m\u001b[0mget_value_box\u001b[0m\u001b[0;34m(\u001b[0m\u001b[0ms\u001b[0m\u001b[0;34m,\u001b[0m \u001b[0mkey\u001b[0m\u001b[0;34m)\u001b[0m\u001b[0;34m\u001b[0m\u001b[0m\n\u001b[0m\u001b[1;32m   1602\u001b[0m             \u001b[0;32mexcept\u001b[0m \u001b[0mIndexError\u001b[0m\u001b[0;34m:\u001b[0m\u001b[0;34m\u001b[0m\u001b[0m\n\u001b[1;32m   1603\u001b[0m                 \u001b[0;32mraise\u001b[0m\u001b[0;34m\u001b[0m\u001b[0m\n",
      "\u001b[0;32mpandas/tslib.pyx\u001b[0m in \u001b[0;36mpandas.tslib.get_value_box (pandas/tslib.c:14153)\u001b[0;34m()\u001b[0m\n",
      "\u001b[0;32mpandas/tslib.pyx\u001b[0m in \u001b[0;36mpandas.tslib.get_value_box (pandas/tslib.c:13920)\u001b[0;34m()\u001b[0m\n",
      "\u001b[0;31mIndexError\u001b[0m: index out of bounds"
     ]
    }
   ],
   "source": [
    "#print dfl.ix[5]\n",
    "\n",
    "#for row in dfl:\n",
    "#    print row\n",
    "for i in df.index:\n",
    "    print \"\".format(df.ix[i].) #.name +\"')\""
   ]
  },
  {
   "cell_type": "code",
   "execution_count": 48,
   "metadata": {
    "collapsed": false
   },
   "outputs": [
    {
     "name": "stdout",
     "output_type": "stream",
     "text": [
      "101\tActe AS\thttp://www.Acte AS.com\n",
      "102\tAxicon\thttp://www.Axicon.com\n",
      "103\tBilXtra Skårer\thttp://www.BilXtra Skårer.com\n",
      "104\tCBK\thttp://www.CBK.com\n",
      "105\tCraftec\thttp://www.Craftec.com\n",
      "106\tDigi-Key\thttp://www.Digi-Key.com\n",
      "107\tElfa\thttp://www.Elfa.com\n",
      "108\tFarnell\thttp://www.Farnell.com\n",
      "109\tHamre\thttp://www.Hamre.com\n",
      "110\tKGS\thttp://www.KGS.com\n",
      "111\tKMV\thttp://www.KMV.com\n",
      "112\tO.Olsen\thttp://www.O.Olsen.com\n",
      "113\tPCBCart\thttp://www.PCBCart.com\n",
      "114\tProduktmerking AS\thttp://www.Produktmerking AS.com\n",
      "115\tRS Comp\thttp://www.RS Comp.com\n",
      "116\tTessta\thttp://www.Tessta.com\n",
      "117\tTingstad\thttp://www.Tingstad.com\n",
      "118\tUnica AS\thttp://www.Unica AS.com\n",
      "119\tXymox\thttp://www.Xymox.com\n",
      "120\tlinkeson (kina)\thttp://www.linkeson (kina).com\n"
     ]
    }
   ],
   "source": [
    "nr = 101\n",
    "for i in dfl.index:\n",
    "    print str(nr) +'\\t'+ dfl.ix[i].name +'\\thttp://www.'+ dfl.ix[i].name +'.com'  \n",
    "    nr += 1"
   ]
  },
  {
   "cell_type": "code",
   "execution_count": null,
   "metadata": {
    "collapsed": false
   },
   "outputs": [],
   "source": []
  }
 ],
 "metadata": {
  "kernelspec": {
   "display_name": "Python 2",
   "language": "python",
   "name": "python2"
  },
  "language_info": {
   "codemirror_mode": {
    "name": "ipython",
    "version": 2
   },
   "file_extension": ".py",
   "mimetype": "text/x-python",
   "name": "python",
   "nbconvert_exporter": "python",
   "pygments_lexer": "ipython2",
   "version": "2.7.10"
  }
 },
 "nbformat": 4,
 "nbformat_minor": 0
}
